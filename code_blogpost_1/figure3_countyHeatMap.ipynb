{
 "cells": [
  {
   "cell_type": "code",
   "execution_count": 1,
   "metadata": {
    "vscode": {
     "languageId": "r"
    }
   },
   "outputs": [
    {
     "name": "stderr",
     "output_type": "stream",
     "text": [
      "\u001b[1m\u001b[22mNew names:\n",
      "\u001b[36m•\u001b[39m `` -> `...1`\n",
      "\u001b[1mRows: \u001b[22m\u001b[34m82845\u001b[39m \u001b[1mColumns: \u001b[22m\u001b[34m12\u001b[39m\n",
      "\u001b[36m──\u001b[39m \u001b[1mColumn specification\u001b[22m \u001b[36m────────────────────────────────────────────────────────\u001b[39m\n",
      "\u001b[1mDelimiter:\u001b[22m \",\"\n",
      "\u001b[31mchr\u001b[39m (5): Month, Country, State/Region, Geography Type, Geography Name\n",
      "\u001b[32mdbl\u001b[39m (7): ...1, Year, Year-Month, Geography Code, Percent, Percent_3ma, N\n",
      "\n",
      "\u001b[36mℹ\u001b[39m Use `spec()` to retrieve the full column specification for this data.\n",
      "\u001b[36mℹ\u001b[39m Specify the column types or set `show_col_types = FALSE` to quiet this message.\n"
     ]
    }
   ],
   "source": [
    "# Load the necessary package\n",
    "library(readr)\n",
    "\n",
    "# Specify the file path\n",
    "file_path <- \"../data/geog_by_month.csv\"\n",
    "\n",
    "# Read the CSV file\n",
    "data <- read_csv(file_path)\n",
    "\n",
    "# Load the necessary packages\n",
    "library(ggplot2)"
   ]
  },
  {
   "cell_type": "code",
   "execution_count": 2,
   "metadata": {
    "vscode": {
     "languageId": "r"
    }
   },
   "outputs": [],
   "source": [
    "# check the unique values in the 'Country' column\n",
    "# keep only US counties\n",
    "data <- data[data$Country == \"USA\",]"
   ]
  },
  {
   "cell_type": "code",
   "execution_count": 3,
   "metadata": {
    "vscode": {
     "languageId": "r"
    }
   },
   "outputs": [
    {
     "name": "stderr",
     "output_type": "stream",
     "text": [
      "\n",
      "Attaching package: ‘dplyr’\n",
      "\n",
      "\n",
      "The following objects are masked from ‘package:stats’:\n",
      "\n",
      "    filter, lag\n",
      "\n",
      "\n",
      "The following objects are masked from ‘package:base’:\n",
      "\n",
      "    intersect, setdiff, setequal, union\n",
      "\n",
      "\n"
     ]
    },
    {
     "name": "stderr",
     "output_type": "stream",
     "text": [
      "\u001b[1m\u001b[22m`summarise()` has grouped output by 'Year', 'Geography Code', 'State/Region'.\n",
      "You can override using the `.groups` argument.\n"
     ]
    }
   ],
   "source": [
    "# collapse the data by year and county\n",
    "# first multiply N by Percent to arrive at the number of WFH jobs\n",
    "# second we add up the number of WFH jobs for each year\n",
    "# third we devide the number of WFH jobs for each year by the total\n",
    "# number of jobs for that year to get the percentage of WFH jobs\n",
    "\n",
    "library(dplyr)\n",
    "\n",
    "# Assuming your data frame is named 'data' and it has columns 'Year', 'N', and 'Percent' # nolint\n",
    "data_by_year_county <- data %>% # nolint\n",
    "  group_by(`Year`,`Geography Code`,`State/Region`,`Geography Name`) %>% # nolint\n",
    "  mutate(WFH_jobs = N * Percent / 100) %>%\n",
    "  summarise(Total_WFH_jobs = sum(WFH_jobs),\n",
    "            Total_jobs = sum(N),\n",
    "            Percent_WFH_jobs = Total_WFH_jobs / Total_jobs * 100)"
   ]
  },
  {
   "cell_type": "code",
   "execution_count": 4,
   "metadata": {
    "vscode": {
     "languageId": "r"
    }
   },
   "outputs": [
    {
     "name": "stderr",
     "output_type": "stream",
     "text": [
      "To enable caching of data, set `options(tigris_use_cache = TRUE)`\n",
      "in your R script or .Rprofile.\n",
      "\n",
      "Linking to GEOS 3.12.1, GDAL 3.7.3, PROJ 9.2.1; sf_use_s2() is TRUE\n",
      "\n"
     ]
    }
   ],
   "source": [
    "library(tigris)\n",
    "library(sf)"
   ]
  },
  {
   "cell_type": "code",
   "execution_count": 5,
   "metadata": {
    "vscode": {
     "languageId": "r"
    }
   },
   "outputs": [
    {
     "name": "stderr",
     "output_type": "stream",
     "text": [
      "Retrieving data for the year 2022\n",
      "\n"
     ]
    },
    {
     "name": "stdout",
     "output_type": "stream",
     "text": [
      "  |======================================================================| 100%\n"
     ]
    },
    {
     "name": "stderr",
     "output_type": "stream",
     "text": [
      "Warning message in CPL_read_ogr(dsn, layer, query, as.character(options), quiet, :\n",
      "“GDAL Message 1: /tmp/RtmpXmnNYJ/tl_2022_us_county.shp contains polygon(s) with rings with invalid winding order. Autocorrecting them, but that shapefile should be corrected using ogr2ogr for example.”\n"
     ]
    }
   ],
   "source": [
    "# Get the shapefiles for US counties\n",
    "us_counties <- counties()\n",
    "# Filter out non-mainland states and territories\n",
    "mainland_us_counties <- us_counties %>%\n",
    "  filter(!(STATEFP %in% c(\"02\", \"15\", \"60\", \"66\", \"69\", \"72\", \"78\")))\n",
    "\n",
    "# STATEFP codes:\n",
    "# 02 - Alaska\n",
    "# 15 - Hawaii\n",
    "# 60 - American Samoa\n",
    "# 66 - Guam\n",
    "# 69 - Northern Mariana Islands\n",
    "# 72 - Puerto Rico\n",
    "# 78 - Virgin Islands"
   ]
  },
  {
   "cell_type": "code",
   "execution_count": 6,
   "metadata": {
    "vscode": {
     "languageId": "r"
    }
   },
   "outputs": [],
   "source": [
    "# Convert the Geography Code to a character so it can be merged with the shapefiles\n",
    "# fill the four digit code with leading zeros\n",
    "data_by_year_county$'Geography Code' <- sprintf(\"%05d\", data_by_year_county$'Geography Code')\n",
    "data_by_year_county$'Geography Code' <- as.character(data_by_year_county$'Geography Code')"
   ]
  },
  {
   "cell_type": "code",
   "execution_count": 7,
   "metadata": {
    "vscode": {
     "languageId": "r"
    }
   },
   "outputs": [],
   "source": [
    "# for each year, merge the data with the shapefiles\n",
    "for (year in unique(data_by_year_county$Year)) {\n",
    "  data_by_year_county_year <- data_by_year_county[data_by_year_county$Year == year,]\n",
    "  us_counties_year <- merge(mainland_us_counties, data_by_year_county_year,\n",
    "   all.x = TRUE, by.x = \"GEOID\", by.y = \"Geography Code\")\n",
    "  # fill zero or missing with 0.0001 to avoid log(0) error\n",
    "  us_counties_year$Percent_WFH_jobs[is.na(us_counties_year$Percent_WFH_jobs)] <- 0.0001\n",
    "  us_counties_year$Percent_WFH_jobs[us_counties_year$Percent_WFH_jobs==0] <- 0.0001\n",
    "\n",
    "\n",
    "  # Create the map\n",
    "  p <- ggplot() +\n",
    "  geom_sf(data = us_counties_year, aes(fill = Percent_WFH_jobs, geometry = geometry)) +\n",
    "  scale_fill_gradient(low = \"white\", high = \"red\", trans = 'log') +\n",
    "  theme_minimal() +\n",
    "  labs(fill = \"Percent WFH Jobs\", title = \"Heatmap of Percent WFH Jobs by County\")\n",
    "  # Save the map by year automatically\n",
    "  ggsave(paste0(\"../output_blogpost_1/figure3_heatmap_\", year, \".png\"), width = 16, height = 10, dpi = 300, plot = p, device = \"png\", bg = \"white\")\n",
    "\n",
    "}"
   ]
  },
  {
   "cell_type": "code",
   "execution_count": null,
   "metadata": {
    "vscode": {
     "languageId": "r"
    }
   },
   "outputs": [],
   "source": []
  }
 ],
 "metadata": {
  "kernelspec": {
   "display_name": "R",
   "language": "R",
   "name": "ir"
  },
  "language_info": {
   "codemirror_mode": "r",
   "file_extension": ".r",
   "mimetype": "text/x-r-source",
   "name": "R",
   "pygments_lexer": "r",
   "version": "4.3.3"
  }
 },
 "nbformat": 4,
 "nbformat_minor": 2
}
