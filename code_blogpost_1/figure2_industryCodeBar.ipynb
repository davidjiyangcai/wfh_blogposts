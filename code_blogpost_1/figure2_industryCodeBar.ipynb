{
 "cells": [
  {
   "cell_type": "code",
   "execution_count": 1,
   "metadata": {
    "vscode": {
     "languageId": "r"
    }
   },
   "outputs": [
    {
     "name": "stderr",
     "output_type": "stream",
     "text": [
      "\u001b[1m\u001b[22mNew names:\n",
      "\u001b[36m•\u001b[39m `` -> `...1`\n",
      "\u001b[1mRows: \u001b[22m\u001b[34m6048\u001b[39m \u001b[1mColumns: \u001b[22m\u001b[34m9\u001b[39m\n",
      "\u001b[36m──\u001b[39m \u001b[1mColumn specification\u001b[22m \u001b[36m────────────────────────────────────────────────────────\u001b[39m\n",
      "\u001b[1mDelimiter:\u001b[22m \",\"\n",
      "\u001b[31mchr\u001b[39m (2): Month, NAICS 2022 3-Digit Industry Group (Name)\n",
      "\u001b[32mdbl\u001b[39m (7): ...1, Year, Year-Month, NAICS 2022 3-Digit Industry Group, Percent,...\n",
      "\n",
      "\u001b[36mℹ\u001b[39m Use `spec()` to retrieve the full column specification for this data.\n",
      "\u001b[36mℹ\u001b[39m Specify the column types or set `show_col_types = FALSE` to quiet this message.\n"
     ]
    }
   ],
   "source": [
    "# Load the necessary package\n",
    "library(readr)\n",
    "\n",
    "# Specify the file path\n",
    "file_path <- \"../data/us_ind_by_month.csv\"\n",
    "\n",
    "# Read the CSV file\n",
    "data <- read_csv(file_path)\n",
    "\n",
    "# Load the necessary packages\n",
    "library(ggplot2)"
   ]
  },
  {
   "cell_type": "code",
   "execution_count": 2,
   "metadata": {
    "vscode": {
     "languageId": "r"
    }
   },
   "outputs": [],
   "source": [
    "# we group the data by year and \n",
    "# first multiply N by Percent to arrive at the number of WFH jobs\n",
    "# second we add up the number of WFH jobs for each year\n",
    "# third we devide the number of WFH jobs for each year by the total\n",
    "# number of jobs for that year to get the percentage of WFH jobs"
   ]
  },
  {
   "cell_type": "code",
   "execution_count": 3,
   "metadata": {
    "vscode": {
     "languageId": "r"
    }
   },
   "outputs": [
    {
     "name": "stderr",
     "output_type": "stream",
     "text": [
      "\n",
      "Attaching package: ‘dplyr’\n",
      "\n",
      "\n"
     ]
    },
    {
     "name": "stderr",
     "output_type": "stream",
     "text": [
      "The following objects are masked from ‘package:stats’:\n",
      "\n",
      "    filter, lag\n",
      "\n",
      "\n",
      "The following objects are masked from ‘package:base’:\n",
      "\n",
      "    intersect, setdiff, setequal, union\n",
      "\n",
      "\n",
      "\u001b[1m\u001b[22m`summarise()` has grouped output by 'Year', 'NAICS 2022 3-Digit Industry\n",
      "Group'. You can override using the `.groups` argument.\n"
     ]
    }
   ],
   "source": [
    "library(dplyr)\n",
    "\n",
    "# Assuming your data frame is named 'data' and it has columns 'Year', 'N', and 'Percent' # nolint\n",
    "data_by_year_NAICS <- data %>% # nolint\n",
    "  group_by(`Year`,`NAICS 2022 3-Digit Industry Group`,`NAICS 2022 3-Digit Industry Group (Name)`) %>% # nolint\n",
    "  mutate(WFH_jobs = N * Percent / 100) %>%\n",
    "  summarise(Total_WFH_jobs = sum(WFH_jobs),\n",
    "            Total_jobs = sum(N),\n",
    "            Percent_WFH_jobs = Total_WFH_jobs / Total_jobs * 100)"
   ]
  },
  {
   "cell_type": "code",
   "execution_count": 4,
   "metadata": {
    "vscode": {
     "languageId": "r"
    }
   },
   "outputs": [],
   "source": [
    "# keep only data from 2019\n",
    "data_by_year_NAICS_2019 <- data_by_year_NAICS %>% filter(Year == 2019)\n",
    "# sort by Percent_WFH_jobs\n",
    "data_by_year_NAICS_2019 <- data_by_year_NAICS_2019 %>% arrange(desc(Percent_WFH_jobs))\n",
    "# create a rank column\n",
    "data_by_year_NAICS_2019$rank <- 1:nrow(data_by_year_NAICS_2019)\n",
    "# keep only the naics code and rank columns\n",
    "data_by_year_NAICS_2019 <- data_by_year_NAICS_2019 %>% ungroup() %>% select(`NAICS 2022 3-Digit Industry Group`,rank)\n",
    "# merge in into the grouped dataset\n",
    "data_by_year_NAICS <- merge(data_by_year_NAICS,data_by_year_NAICS_2019,by = \"NAICS 2022 3-Digit Industry Group\")"
   ]
  },
  {
   "cell_type": "code",
   "execution_count": 5,
   "metadata": {
    "vscode": {
     "languageId": "r"
    }
   },
   "outputs": [
    {
     "data": {
      "text/html": [
       "<style>\n",
       ".list-inline {list-style: none; margin:0; padding: 0}\n",
       ".list-inline>li {display: inline-block}\n",
       ".list-inline>li:not(:last-child)::after {content: \"\\00b7\"; padding: 0 .5ex}\n",
       "</style>\n",
       "<ol class=list-inline><li>'NAICS 2022 3-Digit Industry Group'</li><li>'Year'</li><li>'NAICS 2022 3-Digit Industry Group (Name)'</li><li>'Total_WFH_jobs'</li><li>'Total_jobs'</li><li>'Percent_WFH_jobs'</li><li>'rank'</li></ol>\n"
      ],
      "text/latex": [
       "\\begin{enumerate*}\n",
       "\\item 'NAICS 2022 3-Digit Industry Group'\n",
       "\\item 'Year'\n",
       "\\item 'NAICS 2022 3-Digit Industry Group (Name)'\n",
       "\\item 'Total\\_WFH\\_jobs'\n",
       "\\item 'Total\\_jobs'\n",
       "\\item 'Percent\\_WFH\\_jobs'\n",
       "\\item 'rank'\n",
       "\\end{enumerate*}\n"
      ],
      "text/markdown": [
       "1. 'NAICS 2022 3-Digit Industry Group'\n",
       "2. 'Year'\n",
       "3. 'NAICS 2022 3-Digit Industry Group (Name)'\n",
       "4. 'Total_WFH_jobs'\n",
       "5. 'Total_jobs'\n",
       "6. 'Percent_WFH_jobs'\n",
       "7. 'rank'\n",
       "\n",
       "\n"
      ],
      "text/plain": [
       "[1] \"NAICS 2022 3-Digit Industry Group\"       \n",
       "[2] \"Year\"                                    \n",
       "[3] \"NAICS 2022 3-Digit Industry Group (Name)\"\n",
       "[4] \"Total_WFH_jobs\"                          \n",
       "[5] \"Total_jobs\"                              \n",
       "[6] \"Percent_WFH_jobs\"                        \n",
       "[7] \"rank\"                                    "
      ]
     },
     "metadata": {},
     "output_type": "display_data"
    }
   ],
   "source": [
    "names(data_by_year_NAICS)"
   ]
  },
  {
   "cell_type": "code",
   "execution_count": 6,
   "metadata": {
    "vscode": {
     "languageId": "r"
    }
   },
   "outputs": [],
   "source": [
    "# keep only year 2019/2023/2024\n",
    "data_by_year_NAICS <- data_by_year_NAICS %>% filter(Year %in% c(2019,2023,2024))"
   ]
  },
  {
   "cell_type": "code",
   "execution_count": 7,
   "metadata": {
    "vscode": {
     "languageId": "r"
    }
   },
   "outputs": [],
   "source": [
    "p <- ggplot(data_by_year_NAICS, aes(x = Percent_WFH_jobs,\n",
    " y = reorder(`NAICS 2022 3-Digit Industry Group (Name)`, -1*rank),\n",
    " fill = factor(Year))) +\n",
    "  geom_bar(stat = \"identity\", position = position_dodge(width = 0.8)) +\n",
    "  labs(\n",
    "    title = \"Percent of job ads offering remote/hybrid vary widely by Industry - Sorted by 2019 Shares\",\n",
    "    x = \"Percent\",\n",
    "    y = NULL,\n",
    "    fill = \"Year'\"\n",
    "  ) +\n",
    "  theme_minimal() +\n",
    "  scale_fill_manual(values = c(\"2024\" = \"#F8766D\", \"2023\" = \"#00BFC4\",\"2019\" = \"#7CAE00\")) +\n",
    "  theme(\n",
    "    plot.title = element_text(hjust = 0.5, face = \"bold\"),\n",
    "    axis.text.y = element_text(size = 10),\n",
    "    legend.position = \"bottom\"\n",
    "  )\n",
    "ggsave(\"../output_blogpost_1/figure2.pdf\", plot = p, width = 16, height = 32, dpi = 300)"
   ]
  },
  {
   "cell_type": "code",
   "execution_count": 8,
   "metadata": {
    "vscode": {
     "languageId": "r"
    }
   },
   "outputs": [],
   "source": [
    "# now make the two subgraphs\n",
    "# first include on the the top 5 industries\n",
    "p <- ggplot(data_by_year_NAICS %>% filter(rank <= 5), aes(x = Percent_WFH_jobs,\n",
    " y = reorder(`NAICS 2022 3-Digit Industry Group (Name)`, -1*rank),\n",
    " fill = factor(Year))) +\n",
    "  geom_bar(stat = \"identity\", position = position_dodge(width = 0.8)) +\n",
    "  labs(\n",
    "    title = \"Percent of job ads offering remote/hybrid vary widely by Industry - Top 5 - Sorted by 2019 Shares\",\n",
    "    x = \"Percent\",\n",
    "    y = NULL,\n",
    "    fill = \"Year'\"\n",
    "  ) +\n",
    "  theme_minimal() +\n",
    "  scale_fill_manual(values = c(\"2024\" = \"#F8766D\", \"2023\" = \"#00BFC4\", \"2019\" = \"#7CAE00\")) +\n",
    "  theme(\n",
    "    plot.title = element_text(hjust = 0.5, face = \"bold\"),\n",
    "    axis.text.y = element_text(size = 10),\n",
    "    legend.position = \"bottom\"\n",
    "  )\n",
    "ggsave(\"../output_blogpost_1/figure2_top5.pdf\", plot = p, width = 16, height = 10, dpi = 300)\n",
    "\n",
    "# now make the two subgraphs\n",
    "# first include on the the bottom 5 industries\n",
    "\n",
    "p <- ggplot(data_by_year_NAICS %>% filter(rank >= 92), aes(x = Percent_WFH_jobs,\n",
    " y = reorder(`NAICS 2022 3-Digit Industry Group (Name)`, -1*rank),\n",
    " fill = factor(Year))) +\n",
    "  geom_bar(stat = \"identity\", position = position_dodge(width = 0.8)) +\n",
    "  labs(\n",
    "    title = \"Percent of job ads offering remote/hybrid vary widely by Industry - Bottom 5 - Sorted by 2019 Shares\",\n",
    "    x = \"Percent\",\n",
    "    y = NULL,\n",
    "    fill = \"Year'\"\n",
    "  ) +\n",
    "  theme_minimal() +\n",
    "  scale_fill_manual(values = c(\"2024\" = \"#F8766D\", \"2023\" = \"#00BFC4\", \"2019\" = \"#7CAE00\")) +\n",
    "  theme(\n",
    "    plot.title = element_text(hjust = 0.5, face = \"bold\"),\n",
    "    axis.text.y = element_text(size = 10),\n",
    "    legend.position = \"bottom\"\n",
    "  )\n",
    "ggsave(\"../output_blogpost_1/figure2_bottom5.pdf\", plot = p, width = 16, height = 10, dpi = 300)\n"
   ]
  },
  {
   "cell_type": "code",
   "execution_count": null,
   "metadata": {
    "vscode": {
     "languageId": "r"
    }
   },
   "outputs": [],
   "source": []
  }
 ],
 "metadata": {
  "kernelspec": {
   "display_name": "R",
   "language": "R",
   "name": "ir"
  },
  "language_info": {
   "codemirror_mode": "r",
   "file_extension": ".r",
   "mimetype": "text/x-r-source",
   "name": "R",
   "pygments_lexer": "r",
   "version": "4.3.3"
  }
 },
 "nbformat": 4,
 "nbformat_minor": 2
}
