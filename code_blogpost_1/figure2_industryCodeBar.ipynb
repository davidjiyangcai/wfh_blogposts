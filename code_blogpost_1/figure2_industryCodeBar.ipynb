{
 "cells": [
  {
   "cell_type": "code",
   "execution_count": 3,
   "metadata": {
    "vscode": {
     "languageId": "r"
    }
   },
   "outputs": [
    {
     "name": "stderr",
     "output_type": "stream",
     "text": [
      "\u001b[1m\u001b[22mNew names:\n",
      "\u001b[36m•\u001b[39m `` -> `...1`\n",
      "\u001b[1mRows: \u001b[22m\u001b[34m6048\u001b[39m \u001b[1mColumns: \u001b[22m\u001b[34m9\u001b[39m\n",
      "\u001b[36m──\u001b[39m \u001b[1mColumn specification\u001b[22m \u001b[36m────────────────────────────────────────────────────────\u001b[39m\n",
      "\u001b[1mDelimiter:\u001b[22m \",\"\n",
      "\u001b[31mchr\u001b[39m (2): Month, NAICS 2022 3-Digit Industry Group (Name)\n",
      "\u001b[32mdbl\u001b[39m (7): ...1, Year, Year-Month, NAICS 2022 3-Digit Industry Group, Percent,...\n",
      "\n",
      "\u001b[36mℹ\u001b[39m Use `spec()` to retrieve the full column specification for this data.\n",
      "\u001b[36mℹ\u001b[39m Specify the column types or set `show_col_types = FALSE` to quiet this message.\n"
     ]
    },
    {
     "ename": "ERROR",
     "evalue": "Error in library(\"ggpubr\"): there is no package called ‘ggpubr’\n",
     "output_type": "error",
     "traceback": [
      "Error in library(\"ggpubr\"): there is no package called ‘ggpubr’\nTraceback:\n",
      "1. library(\"ggpubr\")"
     ]
    }
   ],
   "source": [
    "# Load the necessary package\n",
    "library(readr)\n",
    "\n",
    "# Specify the file path\n",
    "file_path <- \"../data/us_ind_by_month.csv\"\n",
    "\n",
    "# Read the CSV file\n",
    "data <- read_csv(file_path)\n",
    "\n",
    "# Load the necessary packages\n",
    "library(\"ggplot2\")\n",
    "library(\"scales\")\n",
    "library(\"ggpubr\")\n",
    "library(\"ggthemr\")\n",
    "library(\"ggpmisc\")\n",
    "# install ggthemr using github\n",
    "devtools::install_github(\"cttobin/ggthemr\")\n",
    "ggthemr('flat')\n",
    "library(\"egg\")\n",
    "library(\"extrafont\")\n",
    "library(\"ggtext\")\n",
    "library(\"lubridate\")\n",
    "library(\"zoo\")\n",
    "library(\"ggtext\")\n",
    "library(\"stringr\")\n",
    "library(\"ggtext\")\n",
    "library(\"scales\")\n",
    "library(\"directlabels\")\n",
    "library(\"lubridate\")"
   ]
  },
  {
   "cell_type": "code",
   "execution_count": 2,
   "metadata": {
    "vscode": {
     "languageId": "r"
    }
   },
   "outputs": [
    {
     "name": "stderr",
     "output_type": "stream",
     "text": [
      "Installing package into ‘/home/davidcai/R/x86_64-redhat-linux-gnu-library/4.3’\n",
      "(as ‘lib’ is unspecified)\n",
      "\n",
      "also installing the dependencies ‘minqa’, ‘nloptr’, ‘RcppEigen’, ‘carData’, ‘abind’, ‘pbkrtest’, ‘lme4’, ‘corrplot’, ‘car’, ‘ggrepel’, ‘ggsci’, ‘cowplot’, ‘ggsignif’, ‘gridExtra’, ‘polynom’, ‘rstatix’\n",
      "\n",
      "\n",
      "Warning message in install.packages(\"ggpubr\"):\n",
      "“installation of package ‘nloptr’ had non-zero exit status”\n",
      "Warning message in install.packages(\"ggpubr\"):\n",
      "“installation of package ‘lme4’ had non-zero exit status”\n",
      "Warning message in install.packages(\"ggpubr\"):\n",
      "“installation of package ‘pbkrtest’ had non-zero exit status”\n",
      "Warning message in install.packages(\"ggpubr\"):\n",
      "“installation of package ‘car’ had non-zero exit status”\n",
      "Warning message in install.packages(\"ggpubr\"):\n",
      "“installation of package ‘rstatix’ had non-zero exit status”\n",
      "Warning message in install.packages(\"ggpubr\"):\n",
      "“installation of package ‘ggpubr’ had non-zero exit status”\n"
     ]
    }
   ],
   "source": [
    "install.packages('ggpubr')"
   ]
  },
  {
   "cell_type": "code",
   "execution_count": null,
   "metadata": {
    "vscode": {
     "languageId": "r"
    }
   },
   "outputs": [],
   "source": [
    "# we group the data by year and \n",
    "# first multiply N by Percent to arrive at the number of WFH jobs\n",
    "# second we add up the number of WFH jobs for each year\n",
    "# third we devide the number of WFH jobs for each year by the total\n",
    "# number of jobs for that year to get the percentage of WFH jobs"
   ]
  },
  {
   "cell_type": "code",
   "execution_count": null,
   "metadata": {
    "vscode": {
     "languageId": "r"
    }
   },
   "outputs": [
    {
     "name": "stderr",
     "output_type": "stream",
     "text": [
      "\u001b[1m\u001b[22m`summarise()` has grouped output by 'Year', 'NAICS 2022 3-Digit Industry\n",
      "Group'. You can override using the `.groups` argument.\n"
     ]
    }
   ],
   "source": [
    "library(dplyr)\n",
    "\n",
    "# Assuming your data frame is named 'data' and it has columns 'Year', 'N', and 'Percent' # nolint\n",
    "data_by_year_NAICS <- data %>% # nolint\n",
    "  group_by(`Year`,`NAICS 2022 3-Digit Industry Group`,`NAICS 2022 3-Digit Industry Group (Name)`) %>% # nolint\n",
    "  mutate(WFH_jobs = N * Percent / 100) %>%\n",
    "  summarise(Total_WFH_jobs = sum(WFH_jobs),\n",
    "            Total_jobs = sum(N),\n",
    "            Percent_WFH_jobs = Total_WFH_jobs / Total_jobs * 100)"
   ]
  },
  {
   "cell_type": "code",
   "execution_count": null,
   "metadata": {
    "vscode": {
     "languageId": "r"
    }
   },
   "outputs": [],
   "source": [
    "# keep only data from 2019\n",
    "data_by_year_NAICS_2019 <- data_by_year_NAICS %>% filter(Year == 2019)\n",
    "# sort by Percent_WFH_jobs\n",
    "data_by_year_NAICS_2019 <- data_by_year_NAICS_2019 %>% arrange(desc(Percent_WFH_jobs))\n",
    "# create a rank column\n",
    "data_by_year_NAICS_2019$rank <- 1:nrow(data_by_year_NAICS_2019)\n",
    "# keep only the naics code and rank columns\n",
    "data_by_year_NAICS_2019 <- data_by_year_NAICS_2019 %>% ungroup() %>% select(`NAICS 2022 3-Digit Industry Group`,rank)\n",
    "# merge in into the grouped dataset\n",
    "data_by_year_NAICS <- merge(data_by_year_NAICS,data_by_year_NAICS_2019,by = \"NAICS 2022 3-Digit Industry Group\")"
   ]
  },
  {
   "cell_type": "code",
   "execution_count": null,
   "metadata": {
    "vscode": {
     "languageId": "r"
    }
   },
   "outputs": [
    {
     "data": {
      "text/html": [
       "<style>\n",
       ".list-inline {list-style: none; margin:0; padding: 0}\n",
       ".list-inline>li {display: inline-block}\n",
       ".list-inline>li:not(:last-child)::after {content: \"\\00b7\"; padding: 0 .5ex}\n",
       "</style>\n",
       "<ol class=list-inline><li>'NAICS 2022 3-Digit Industry Group'</li><li>'Year'</li><li>'NAICS 2022 3-Digit Industry Group (Name)'</li><li>'Total_WFH_jobs'</li><li>'Total_jobs'</li><li>'Percent_WFH_jobs'</li><li>'rank'</li></ol>\n"
      ],
      "text/latex": [
       "\\begin{enumerate*}\n",
       "\\item 'NAICS 2022 3-Digit Industry Group'\n",
       "\\item 'Year'\n",
       "\\item 'NAICS 2022 3-Digit Industry Group (Name)'\n",
       "\\item 'Total\\_WFH\\_jobs'\n",
       "\\item 'Total\\_jobs'\n",
       "\\item 'Percent\\_WFH\\_jobs'\n",
       "\\item 'rank'\n",
       "\\end{enumerate*}\n"
      ],
      "text/markdown": [
       "1. 'NAICS 2022 3-Digit Industry Group'\n",
       "2. 'Year'\n",
       "3. 'NAICS 2022 3-Digit Industry Group (Name)'\n",
       "4. 'Total_WFH_jobs'\n",
       "5. 'Total_jobs'\n",
       "6. 'Percent_WFH_jobs'\n",
       "7. 'rank'\n",
       "\n",
       "\n"
      ],
      "text/plain": [
       "[1] \"NAICS 2022 3-Digit Industry Group\"       \n",
       "[2] \"Year\"                                    \n",
       "[3] \"NAICS 2022 3-Digit Industry Group (Name)\"\n",
       "[4] \"Total_WFH_jobs\"                          \n",
       "[5] \"Total_jobs\"                              \n",
       "[6] \"Percent_WFH_jobs\"                        \n",
       "[7] \"rank\"                                    "
      ]
     },
     "metadata": {},
     "output_type": "display_data"
    }
   ],
   "source": [
    "names(data_by_year_NAICS)"
   ]
  },
  {
   "cell_type": "code",
   "execution_count": null,
   "metadata": {
    "vscode": {
     "languageId": "r"
    }
   },
   "outputs": [],
   "source": [
    "# keep only year 2019/2023/2024\n",
    "data_by_year_NAICS <- data_by_year_NAICS %>% filter(Year %in% c(2019,2023,2024))"
   ]
  },
  {
   "cell_type": "code",
   "execution_count": null,
   "metadata": {
    "vscode": {
     "languageId": "r"
    }
   },
   "outputs": [
    {
     "ename": "ERROR",
     "evalue": "Error in loadNamespace(x): there is no package called ‘ggtext’\n",
     "output_type": "error",
     "traceback": [
      "Error in loadNamespace(x): there is no package called ‘ggtext’\nTraceback:\n",
      "1. theme(plot.title = element_text(face = \"bold\", size = 24, hjust = 0, \n .     family = \"sans\", colour = \"black\"), legend.position = \"none\", \n .     axis.text = element_text(face = \"bold\", size = 20, family = \"sans\", \n .         colour = \"black\"), axis.title = element_text(face = \"bold\", \n .         size = 20, family = \"sans\", colour = \"black\"), axis.text.x = element_text(angle = 45, \n .         vjust = 1, hjust = 1, family = \"sans\", colour = \"black\"), \n .     plot.caption = ggtext::element_textbox(hjust = 0, halign = 0, \n .         family = \"sans\", size = 20, colour = \"black\", lineheight = 1.2, \n .         width = unit(0.95, \"npc\")), plot.caption.position = \"plot\", \n .     axis.title.x = element_blank(), panel.background = element_rect(fill = \"white\"), \n .     aspect.ratio = 3/5, axis.line = element_line(color = \"black\"), \n .     axis.line.x = element_line(color = \"black\", size = 1), axis.line.y = element_line(color = \"black\", \n .         size = 1), axis.line.x.top = element_blank(), axis.line.y.right = element_blank(), \n .     axis.ticks = element_line(color = \"black\", size = 1), axis.ticks.length = unit(0.3, \n .         \"cm\"))",
      "2. find_args(..., complete = NULL, validate = NULL)",
      "3. mget(args, envir = env)",
      "4. loadNamespace(x)",
      "5. withRestarts(stop(cond), retry_loadNamespace = function() NULL)",
      "6. withOneRestart(expr, restarts[[1L]])",
      "7. doWithOneRestart(return(expr), restart)"
     ]
    }
   ],
   "source": [
    "p <- ggplot(data_by_year_NAICS, aes(x = Percent_WFH_jobs,\n",
    " y = reorder(`NAICS 2022 3-Digit Industry Group (Name)`, -1*rank),\n",
    " fill = factor(Year))) +\n",
    "  geom_bar(stat = \"identity\", position = position_dodge(width = 0.8)) +\n",
    "  labs(\n",
    "    title = \"Percent of job ads offering remote/hybrid vary widely by Industry - Sorted by 2019 Shares\",\n",
    "    x = \"Percent\",\n",
    "    y = NULL,\n",
    "    fill = \"Year'\"\n",
    "  ) +\n",
    "  theme_minimal() +\n",
    "  scale_fill_manual(values = c(\"2024\" = \"#F8766D\", \"2023\" = \"#00BFC4\",\"2019\" = \"#7CAE00\")) +\n",
    "  theme(\n",
    "    plot.title = element_text(face = \"bold\", size = 24, hjust = 0, family = \"sans\", colour = \"black\"),  # Center and bold the title with size 24\n",
    "    legend.position = \"none\",  # Remove legend\n",
    "    axis.text = element_text(face = \"bold\", size = 20, family = \"sans\", colour = \"black\"),  # Adjust axis text size and font\n",
    "    axis.title = element_text(face = \"bold\", size = 20, family = \"sans\", colour = \"black\"),  # Adjust axis title size and font\n",
    "    axis.text.x = element_text(angle = 45, vjust = 1, hjust = 1, family = \"sans\", colour = \"black\"),  # Rotate x-axis text for better readability\n",
    "    plot.caption = ggtext::element_textbox(hjust = 0, halign = 0, family = \"sans\", size = 20, colour = \"black\", lineheight = 1.2, width = unit(0.95, \"npc\")),  # Use element_textbox for caption with size 20, wrapped and left-aligned text\n",
    "    plot.caption.position = \"plot\",\n",
    "    axis.title.x = element_blank(), # remove the x-axis title\n",
    "    panel.background = element_rect(fill = \"white\"),  # Set panel background to white\n",
    "    aspect.ratio = 3/5,  # Set aspect ratio\n",
    "    axis.line = element_line(color = \"black\"),  # Set axis lines to black\n",
    "    axis.line.x = element_line(color = \"black\", size = 1),  # Thicken x-axis line\n",
    "    axis.line.y = element_line(color = \"black\", size = 1),  # Thicken y-axis line\n",
    "    axis.line.x.top = element_blank(),  # Remove top x-axis line\n",
    "    axis.line.y.right = element_blank(),  # Remove right y-axis line\n",
    "    axis.ticks = element_line(color = \"black\", size = 1),  # Ensure axis ticks are visible\n",
    "    axis.ticks.length = unit(0.3, \"cm\")  # Lengthen the ticks for better visibility\n",
    "  )\n",
    "ggsave(\"../output_blogpost_1/figure2.pdf\", plot = p, width = 16, height = 32, dpi = 300)"
   ]
  },
  {
   "cell_type": "code",
   "execution_count": null,
   "metadata": {
    "vscode": {
     "languageId": "r"
    }
   },
   "outputs": [],
   "source": [
    "# now make the two subgraphs\n",
    "# first include on the the top 5 industries\n",
    "p <- ggplot(data_by_year_NAICS %>% filter(rank <= 5), aes(x = Percent_WFH_jobs,\n",
    " y = reorder(`NAICS 2022 3-Digit Industry Group (Name)`, -1*rank),\n",
    " fill = factor(Year))) +\n",
    "  geom_bar(stat = \"identity\", position = position_dodge(width = 0.8)) +\n",
    "  labs(\n",
    "    title = \"Percent of job ads offering remote/hybrid vary widely by Industry - Top 5 - Sorted by 2019 Shares\",\n",
    "    x = \"Percent\",\n",
    "    y = NULL,\n",
    "    fill = \"Year'\"\n",
    "  ) +\n",
    "  theme_minimal() +\n",
    "  scale_fill_manual(values = c(\"2024\" = \"#F8766D\", \"2023\" = \"#00BFC4\", \"2019\" = \"#7CAE00\")) +\n",
    "  theme(\n",
    "    plot.title = element_text(face = \"bold\", size = 24, hjust = 0, family = \"sans\", colour = \"black\"),  # Center and bold the title with size 24\n",
    "    legend.position = \"none\",  # Remove legend\n",
    "    axis.text = element_text(face = \"bold\", size = 20, family = \"sans\", colour = \"black\"),  # Adjust axis text size and font\n",
    "    axis.title = element_text(face = \"bold\", size = 20, family = \"sans\", colour = \"black\"),  # Adjust axis title size and font\n",
    "    axis.text.x = element_text(angle = 45, vjust = 1, hjust = 1, family = \"sans\", colour = \"black\"),  # Rotate x-axis text for better readability\n",
    "    plot.caption = ggtext::element_textbox(hjust = 0, halign = 0, family = \"sans\", size = 20, colour = \"black\", lineheight = 1.2, width = unit(0.95, \"npc\")),  # Use element_textbox for caption with size 20, wrapped and left-aligned text\n",
    "    plot.caption.position = \"plot\",\n",
    "    axis.title.x = element_blank(), # remove the x-axis title\n",
    "    panel.background = element_rect(fill = \"white\"),  # Set panel background to white\n",
    "    aspect.ratio = 3/5,  # Set aspect ratio\n",
    "    axis.line = element_line(color = \"black\"),  # Set axis lines to black\n",
    "    axis.line.x = element_line(color = \"black\", size = 1),  # Thicken x-axis line\n",
    "    axis.line.y = element_line(color = \"black\", size = 1),  # Thicken y-axis line\n",
    "    axis.line.x.top = element_blank(),  # Remove top x-axis line\n",
    "    axis.line.y.right = element_blank(),  # Remove right y-axis line\n",
    "    axis.ticks = element_line(color = \"black\", size = 1),  # Ensure axis ticks are visible\n",
    "    axis.ticks.length = unit(0.3, \"cm\")  # Lengthen the ticks for better visibility\n",
    "  )\n",
    "ggsave(\"../output_blogpost_1/figure2_top5.pdf\", plot = p, width = 16, height = 10, dpi = 300)\n",
    "\n",
    "# now make the two subgraphs\n",
    "# first include on the the bottom 5 industries\n",
    "\n",
    "p <- ggplot(data_by_year_NAICS %>% filter(rank >= 92), aes(x = Percent_WFH_jobs,\n",
    " y = reorder(`NAICS 2022 3-Digit Industry Group (Name)`, -1*rank),\n",
    " fill = factor(Year))) +\n",
    "  geom_bar(stat = \"identity\", position = position_dodge(width = 0.8)) +\n",
    "  labs(\n",
    "    title = \"Percent of job ads offering remote/hybrid vary widely by Industry - Bottom 5 - Sorted by 2019 Shares\",\n",
    "    x = \"Percent\",\n",
    "    y = NULL,\n",
    "    fill = \"Year'\"\n",
    "  ) +\n",
    "  theme_minimal() +\n",
    "  scale_fill_manual(values = c(\"2024\" = \"#F8766D\", \"2023\" = \"#00BFC4\", \"2019\" = \"#7CAE00\")) +\n",
    "  theme(\n",
    "    plot.title = element_text(face = \"bold\", size = 24, hjust = 0, family = \"sans\", colour = \"black\"),  # Center and bold the title with size 24\n",
    "    legend.position = \"none\",  # Remove legend\n",
    "    axis.text = element_text(face = \"bold\", size = 20, family = \"sans\", colour = \"black\"),  # Adjust axis text size and font\n",
    "    axis.title = element_text(face = \"bold\", size = 20, family = \"sans\", colour = \"black\"),  # Adjust axis title size and font\n",
    "    axis.text.x = element_text(angle = 45, vjust = 1, hjust = 1, family = \"sans\", colour = \"black\"),  # Rotate x-axis text for better readability\n",
    "    plot.caption = ggtext::element_textbox(hjust = 0, halign = 0, family = \"sans\", size = 20, colour = \"black\", lineheight = 1.2, width = unit(0.95, \"npc\")),  # Use element_textbox for caption with size 20, wrapped and left-aligned text\n",
    "    plot.caption.position = \"plot\",\n",
    "    axis.title.x = element_blank(), # remove the x-axis title\n",
    "    panel.background = element_rect(fill = \"white\"),  # Set panel background to white\n",
    "    aspect.ratio = 3/5,  # Set aspect ratio\n",
    "    axis.line = element_line(color = \"black\"),  # Set axis lines to black\n",
    "    axis.line.x = element_line(color = \"black\", size = 1),  # Thicken x-axis line\n",
    "    axis.line.y = element_line(color = \"black\", size = 1),  # Thicken y-axis line\n",
    "    axis.line.x.top = element_blank(),  # Remove top x-axis line\n",
    "    axis.line.y.right = element_blank(),  # Remove right y-axis line\n",
    "    axis.ticks = element_line(color = \"black\", size = 1),  # Ensure axis ticks are visible\n",
    "    axis.ticks.length = unit(0.3, \"cm\")  # Lengthen the ticks for better visibility\n",
    "  )\n",
    "ggsave(\"../output_blogpost_1/figure2_bottom5.pdf\", plot = p, width = 16, height = 10, dpi = 300)\n"
   ]
  },
  {
   "cell_type": "code",
   "execution_count": null,
   "metadata": {
    "vscode": {
     "languageId": "r"
    }
   },
   "outputs": [],
   "source": []
  }
 ],
 "metadata": {
  "kernelspec": {
   "display_name": "R",
   "language": "R",
   "name": "ir"
  },
  "language_info": {
   "codemirror_mode": "r",
   "file_extension": ".r",
   "mimetype": "text/x-r-source",
   "name": "R",
   "pygments_lexer": "r",
   "version": "4.3.3"
  }
 },
 "nbformat": 4,
 "nbformat_minor": 2
}
