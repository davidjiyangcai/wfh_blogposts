{
 "cells": [
  {
   "cell_type": "code",
   "execution_count": 1,
   "metadata": {
    "vscode": {
     "languageId": "r"
    }
   },
   "outputs": [
    {
     "name": "stderr",
     "output_type": "stream",
     "text": [
      "\u001b[1m\u001b[22mNew names:\n",
      "\u001b[36m•\u001b[39m `` -> `...1`\n",
      "\u001b[1mRows: \u001b[22m\u001b[34m315\u001b[39m \u001b[1mColumns: \u001b[22m\u001b[34m7\u001b[39m\n",
      "\u001b[36m──\u001b[39m \u001b[1mColumn specification\u001b[22m \u001b[36m────────────────────────────────────────────────────────\u001b[39m\n",
      "\u001b[1mDelimiter:\u001b[22m \",\"\n",
      "\u001b[31mchr\u001b[39m (2): Month, Country\n",
      "\u001b[32mdbl\u001b[39m (5): ...1, Year, Year-Month, Percent, Percent_3MA\n",
      "\n",
      "\u001b[36mℹ\u001b[39m Use `spec()` to retrieve the full column specification for this data.\n",
      "\u001b[36mℹ\u001b[39m Specify the column types or set `show_col_types = FALSE` to quiet this message.\n"
     ]
    }
   ],
   "source": [
    "# Load the necessary package\n",
    "library(readr)\n",
    "\n",
    "# Specify the file path\n",
    "file_path <- \"../data/country_by_month.csv\"\n",
    "\n",
    "# Read the CSV file\n",
    "data <- read_csv(file_path)\n",
    "\n",
    "# Load the necessary packages\n",
    "library(ggplot2)\n"
   ]
  },
  {
   "cell_type": "code",
   "execution_count": 2,
   "metadata": {
    "vscode": {
     "languageId": "r"
    }
   },
   "outputs": [],
   "source": [
    "#rename a column\n",
    "data$ym <- data$'Year-Month'"
   ]
  },
  {
   "cell_type": "code",
   "execution_count": 3,
   "metadata": {
    "vscode": {
     "languageId": "r"
    }
   },
   "outputs": [
    {
     "name": "stderr",
     "output_type": "stream",
     "text": [
      "Warning message:\n",
      "“\u001b[1m\u001b[22mUsing `size` aesthetic for lines was deprecated in ggplot2 3.4.0.\n",
      "\u001b[36mℹ\u001b[39m Please use `linewidth` instead.”\n"
     ]
    }
   ],
   "source": [
    "# Set the factor levels for Country to ensure the legend order\n",
    "data$Country <- factor(data$Country, levels = c(\"USA\", \"UK\", \"New Zealand\", \"Canada\", \"Australia\")) # nolint: line_length_linter.\n",
    "\n",
    "# Define custom colors to match the example graph\n",
    "custom_colors <- c(\"USA\" = \"#ff4400\", \"UK\" = \"blue\", \"Australia\" = \"orange\", \"Canada\" = \"green\", \"New Zealand\" = \"purple\") # nolint: line_length_linter.\n",
    "\n",
    "\n",
    "# Function to insert line breaks\n",
    "insert_line_breaks <- function(s, n) {\n",
    "  paste(strwrap(s, width = n), collapse = \"\\n\")\n",
    "}\n",
    "\n",
    "# Use the function in the caption\n",
    "caption_text <- \"Notes: This figure shows the percent of vacancy postings that say the job allows one or more remote workdays per week. We compute these monthly, country-level shares as the weighted mean of the own-country occupation-level shares, with weights given by the U.S. vacancy distribution in 2019. Our occupation-level granularity is roughly equivalent to six-digit SOC codes. Figures depicts the 3-month moving average\"\n",
    "caption_text <- insert_line_breaks(caption_text, 200)\n",
    "\n",
    "\n",
    "# Create the plot\n",
    "p <- ggplot(data, aes(x = ym, y = Percent_3MA, color = Country, group = Country)) + # nolint: line_length_linter.\n",
    "  geom_line(size = 1.2) +  # Adjust line size to match the example\n",
    "  scale_color_manual(values = custom_colors) +  # Use custom colors\n",
    "  labs(x = NULL, y = \"Percent\", \n",
    "  title = \"Figure 1: Share of job postings offering remote or hybrid work\",\n",
    "  caption = caption_text)+\n",
    "  theme_minimal(base_size = 15) +  # Use minimal theme with adjusted base size\n",
    "  theme(\n",
    "    plot.title = element_text(face = \"bold\", size = 18, hjust = 0),  # Center and bold the title # nolint: line_length_linter.\n",
    "    legend.title = element_blank(),  # Remove legend title\n",
    "    legend.position = \"bottom\",  # Position legend at the bottom\n",
    "    legend.text = element_text(face = \"bold\",size = 18),  # Adjust legend text size\n",
    "    axis.text = element_text(face = \"bold\",size = 18),  # Adjust axis text size\n",
    "    axis.title.y = element_text(face = \"bold\",size = 18),  # Adjust y-axis title size,\n",
    "    plot.caption = element_text(hjust = 0),\n",
    "    plot.caption.position = \"plot\"\n",
    "  ) \n",
    "\n",
    "ggsave(\"../output_blogpost_1/figure1.pdf\", plot = p, width = 16, height = 10, dpi = 300)\n"
   ]
  }
 ],
 "metadata": {
  "kernelspec": {
   "display_name": "R",
   "language": "R",
   "name": "ir"
  },
  "language_info": {
   "codemirror_mode": "r",
   "file_extension": ".r",
   "mimetype": "text/x-r-source",
   "name": "R",
   "pygments_lexer": "r",
   "version": "4.3.3"
  }
 },
 "nbformat": 4,
 "nbformat_minor": 2
}
