{
 "cells": [
  {
   "cell_type": "code",
   "execution_count": 1,
   "metadata": {
    "vscode": {
     "languageId": "r"
    }
   },
   "outputs": [
    {
     "name": "stderr",
     "output_type": "stream",
     "text": [
      "\u001b[1m\u001b[22mNew names:\n",
      "\u001b[36m•\u001b[39m `` -> `...1`\n",
      "\u001b[1mRows: \u001b[22m\u001b[34m6048\u001b[39m \u001b[1mColumns: \u001b[22m\u001b[34m9\u001b[39m\n",
      "\u001b[36m──\u001b[39m \u001b[1mColumn specification\u001b[22m \u001b[36m────────────────────────────────────────────────────────\u001b[39m\n",
      "\u001b[1mDelimiter:\u001b[22m \",\"\n",
      "\u001b[31mchr\u001b[39m (3): Month, SOC 2018 3-Digit Minor Group, SOC 2018 3-Digit Minor Group (...\n",
      "\u001b[32mdbl\u001b[39m (6): ...1, Year, Year-Month, Percent, Percent_3ma, N\n",
      "\n",
      "\u001b[36mℹ\u001b[39m Use `spec()` to retrieve the full column specification for this data.\n",
      "\u001b[36mℹ\u001b[39m Specify the column types or set `show_col_types = FALSE` to quiet this message.\n"
     ]
    }
   ],
   "source": [
    "# Load the necessary package\n",
    "library(readr)\n",
    "\n",
    "# Specify the file path\n",
    "file_path <- \"../data/us_occ_by_month.csv\"\n",
    "\n",
    "# Read the CSV file\n",
    "data <- read_csv(file_path)\n",
    "\n",
    "# Load the necessary packages\n",
    "library(ggplot2)"
   ]
  },
  {
   "cell_type": "code",
   "execution_count": 2,
   "metadata": {
    "vscode": {
     "languageId": "r"
    }
   },
   "outputs": [
    {
     "name": "stderr",
     "output_type": "stream",
     "text": [
      "\n",
      "Attaching package: ‘dplyr’\n",
      "\n",
      "\n",
      "The following objects are masked from ‘package:stats’:\n",
      "\n",
      "    filter, lag\n",
      "\n",
      "\n",
      "The following objects are masked from ‘package:base’:\n",
      "\n",
      "    intersect, setdiff, setequal, union\n",
      "\n",
      "\n",
      "\u001b[1m\u001b[22m`summarise()` has grouped output by 'Year', 'SOC 2018 3-Digit Minor Group'. You\n",
      "can override using the `.groups` argument.\n"
     ]
    }
   ],
   "source": [
    "library(dplyr)\n",
    "\n",
    "# Assuming your data frame is named 'data' and it has columns 'Year', 'N', and 'Percent' # nolint\n",
    "data_by_year_occ <- data %>% # nolint\n",
    "  group_by(`Year`,`SOC 2018 3-Digit Minor Group`,`SOC 2018 3-Digit Minor Group (Name)`) %>% # nolint\n",
    "  mutate(WFH_jobs = N * Percent / 100) %>%\n",
    "  summarise(Total_WFH_jobs = sum(WFH_jobs),\n",
    "            Total_jobs = sum(N),\n",
    "            Percent_WFH_jobs = Total_WFH_jobs / Total_jobs * 100)"
   ]
  },
  {
   "cell_type": "code",
   "execution_count": 3,
   "metadata": {
    "vscode": {
     "languageId": "r"
    }
   },
   "outputs": [],
   "source": [
    "# keep only data from 2019\n",
    "data_by_year_SOC_2019 <- data_by_year_occ %>% filter(Year == 2019)\n",
    "# sort by Percent_WFH_jobs\n",
    "data_by_year_SOC_2019 <- data_by_year_SOC_2019 %>% arrange(desc(Percent_WFH_jobs))\n",
    "# create a rank column\n",
    "data_by_year_SOC_2019$rank <- 1:nrow(data_by_year_SOC_2019)\n",
    "# keep only the naics code and rank columns\n",
    "data_by_year_SOC_2019 <- data_by_year_SOC_2019 %>% ungroup() %>% select(`SOC 2018 3-Digit Minor Group`,rank)\n",
    "# merge in into the grouped dataset\n",
    "data_by_year_occ <- merge(data_by_year_occ,data_by_year_SOC_2019,by = \"SOC 2018 3-Digit Minor Group\")"
   ]
  },
  {
   "cell_type": "code",
   "execution_count": 4,
   "metadata": {
    "vscode": {
     "languageId": "r"
    }
   },
   "outputs": [],
   "source": [
    "# keep only year 2019/2023/2024\n",
    "data_by_year_occ <- data_by_year_occ %>% filter(Year %in% c(2019,2023,2024))"
   ]
  },
  {
   "cell_type": "code",
   "execution_count": 5,
   "metadata": {
    "vscode": {
     "languageId": "r"
    }
   },
   "outputs": [],
   "source": [
    "p <- ggplot(data_by_year_occ, aes(x = Percent_WFH_jobs,\n",
    " y = reorder(`SOC 2018 3-Digit Minor Group (Name)`, -1*rank),\n",
    " fill = factor(Year))) +\n",
    "  geom_bar(stat = \"identity\", position = position_dodge(width = 0.8)) +\n",
    "  labs(\n",
    "    title = \"Percent of job ads offering remote/hybrid vary widely by Occupation - Sorted by 2019 Shares\",\n",
    "    x = \"Percent\",\n",
    "    y = NULL,\n",
    "    fill = \"Year'\"\n",
    "  ) +\n",
    "  theme_minimal() +\n",
    "  scale_fill_manual(values = c(\"2024\" = \"#F8766D\", \"2023\" = \"#00BFC4\",\"2019\" = \"#7CAE00\")) +\n",
    "  theme(\n",
    "    plot.title = element_text(hjust = 0.5, face = \"bold\"),\n",
    "    axis.text.y = element_text(size = 10),\n",
    "    legend.position = \"bottom\"\n",
    "  )\n",
    "ggsave(\"../output_blogpost_1/figure4.pdf\", plot = p, width = 16, height = 32, dpi = 300)"
   ]
  },
  {
   "cell_type": "code",
   "execution_count": 6,
   "metadata": {
    "vscode": {
     "languageId": "r"
    }
   },
   "outputs": [],
   "source": [
    "# now make the two subgraphs\n",
    "# first include on the the top 5 occupations\n",
    "p <- ggplot(data_by_year_occ %>% filter(rank <= 5), aes(x = Percent_WFH_jobs,\n",
    " y = reorder(`SOC 2018 3-Digit Minor Group (Name)`, -1*rank),\n",
    " fill = factor(Year))) +\n",
    "  geom_bar(stat = \"identity\", position = position_dodge(width = 0.8)) +\n",
    "  labs(\n",
    "    title = \"Percent of job ads offering remote/hybrid vary widely by Occupation - Top 5 - Sorted by 2019 Shares\",\n",
    "    x = \"Percent\",\n",
    "    y = NULL,\n",
    "    fill = \"Year'\"\n",
    "  ) +\n",
    "  theme_minimal() +\n",
    "  scale_fill_manual(values = c(\"2024\" = \"#F8766D\", \"2023\" = \"#00BFC4\", \"2019\" = \"#7CAE00\")) +\n",
    "  theme(\n",
    "    plot.title = element_text(hjust = 0.5, face = \"bold\"),\n",
    "    axis.text.y = element_text(size = 10),\n",
    "    legend.position = \"bottom\"\n",
    "  )\n",
    "ggsave(\"../output_blogpost_1/figure4_top5.pdf\", plot = p, width = 16, height = 10, dpi = 300)\n",
    "\n",
    "p <- ggplot(data_by_year_occ %>% filter(rank >= 92), aes(x = Percent_WFH_jobs,\n",
    " y = reorder(`SOC 2018 3-Digit Minor Group (Name)`, -1*rank),\n",
    " fill = factor(Year))) +\n",
    "  geom_bar(stat = \"identity\", position = position_dodge(width = 0.8)) +\n",
    "  labs(\n",
    "    title = \"Percent of job ads offering remote/hybrid vary widely by Occupation - Bottom 5 - Sorted by 2019 Shares\",\n",
    "    x = \"Percent\",\n",
    "    y = NULL,\n",
    "    fill = \"Year'\"\n",
    "  ) +\n",
    "  theme_minimal() +\n",
    "  scale_fill_manual(values = c(\"2024\" = \"#F8766D\", \"2023\" = \"#00BFC4\", \"2019\" = \"#7CAE00\")) +\n",
    "  theme(\n",
    "    plot.title = element_text(hjust = 0.5, face = \"bold\"),\n",
    "    axis.text.y = element_text(size = 10),\n",
    "    legend.position = \"bottom\"\n",
    "  )\n",
    "ggsave(\"../output_blogpost_1/figure4_bottom5.pdf\", plot = p, width = 16, height = 10, dpi = 300)"
   ]
  },
  {
   "cell_type": "code",
   "execution_count": null,
   "metadata": {
    "vscode": {
     "languageId": "r"
    }
   },
   "outputs": [],
   "source": []
  }
 ],
 "metadata": {
  "kernelspec": {
   "display_name": "R",
   "language": "R",
   "name": "ir"
  },
  "language_info": {
   "codemirror_mode": "r",
   "file_extension": ".r",
   "mimetype": "text/x-r-source",
   "name": "R",
   "pygments_lexer": "r",
   "version": "4.3.3"
  }
 },
 "nbformat": 4,
 "nbformat_minor": 2
}
